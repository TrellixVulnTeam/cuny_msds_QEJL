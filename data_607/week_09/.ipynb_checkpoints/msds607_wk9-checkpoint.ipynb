{
 "cells": [
  {
   "cell_type": "markdown",
   "metadata": {},
   "source": [
    "### nicholas chung\n",
    "### data607\n",
    "### 10/24/19\n",
    "\n",
    "## assignment: web APIs\n",
    "\n",
    "The New York Times web site provides a rich set of APIs, as described here: https://developer.nytimes.com/apis\n",
    "\n",
    "You’ll need to start by signing up for an API key.\n",
    "\n",
    "Your task is to choose one of the New York Times APIs, construct an interface in Python to read in the JSON data, and\n",
    "transform it into a pandas DataFrame."
   ]
  },
  {
   "cell_type": "code",
   "execution_count": 22,
   "metadata": {},
   "outputs": [],
   "source": [
    "import config\n",
    "import datetime\n",
    "import requests\n",
    "import time"
   ]
  },
  {
   "cell_type": "code",
   "execution_count": 8,
   "metadata": {},
   "outputs": [
    {
     "name": "stdout",
     "output_type": "stream",
     "text": [
      "['2019-10-24', '2019-10-25', '2019-10-26', '2019-10-27', '2019-10-28', '2019-10-29', '2019-10-30', '2019-10-31', '2019-11-01', '2019-11-02', '2019-11-03', '2019-11-04', '2019-11-05', '2019-11-06', '2019-11-07', '2019-11-08', '2019-11-09', '2019-11-10', '2019-11-11', '2019-11-12', '2019-11-13', '2019-11-14', '2019-11-15', '2019-11-16', '2019-11-17', '2019-11-18', '2019-11-19', '2019-11-20', '2019-11-21', '2019-11-22', '2019-11-23', '2019-11-24', '2019-11-25', '2019-11-26', '2019-11-27', '2019-11-28', '2019-11-29', '2019-11-30', '2019-12-01', '2019-12-02', '2019-12-03', '2019-12-04', '2019-12-05', '2019-12-06', '2019-12-07', '2019-12-08', '2019-12-09', '2019-12-10', '2019-12-11', '2019-12-12', '2019-12-13', '2019-12-14', '2019-12-15', '2019-12-16', '2019-12-17', '2019-12-18', '2019-12-19', '2019-12-20', '2019-12-21', '2019-12-22', '2019-12-23', '2019-12-24', '2019-12-25', '2019-12-26', '2019-12-27', '2019-12-28', '2019-12-29', '2019-12-30', '2019-12-31', '2020-01-01', '2020-01-02', '2020-01-03', '2020-01-04', '2020-01-05', '2020-01-06', '2020-01-07', '2020-01-08', '2020-01-09', '2020-01-10', '2020-01-11', '2020-01-12', '2020-01-13', '2020-01-14', '2020-01-15', '2020-01-16', '2020-01-17', '2020-01-18', '2020-01-19', '2020-01-20', '2020-01-21', '2020-01-22', '2020-01-23', '2020-01-24', '2020-01-25', '2020-01-26', '2020-01-27', '2020-01-28', '2020-01-29', '2020-01-30', '2020-01-31']\n"
     ]
    }
   ],
   "source": [
    "last_hundred = []\n",
    "for i in range(0, 100):\n",
    "    last_hundred.append((datetime.date.today() + datetime.timedelta(i)).isoformat())\n",
    "#    print((datetime.date.today() + datetime.timedelta(i)).isoformat())\n",
    "print(last_hundred)"
   ]
  },
  {
   "cell_type": "code",
   "execution_count": 7,
   "metadata": {},
   "outputs": [
    {
     "data": {
      "text/plain": [
       "200"
      ]
     },
     "execution_count": 7,
     "metadata": {},
     "output_type": "execute_result"
    }
   ],
   "source": [
    "#r = requests.get('https://api.github.com/user', auth=('user', 'pass'))\n",
    "r = requests.get('https://api.nytimes.com/svc/books/v3/lists/current/hardcover-fiction.json?api-key=###')\n",
    "r.status_code"
   ]
  },
  {
   "cell_type": "code",
   "execution_count": null,
   "metadata": {},
   "outputs": [
    {
     "name": "stdout",
     "output_type": "stream",
     "text": [
      "{'title': 'THE 19TH CHRISTMAS', 'rank': 1, 'rank_last_week': 0, 'weeks_on_list': 1, 'description': 'In the 19th installment of the Women\\'s Murder Club series, detective Lindsay Boxer and company take on a fearsome criminal known only as \"Loman.\"', 'publisher': 'Little, Brown', 'author': 'James Patterson and Maxine Paetro'}\n",
      "{'title': 'WHERE THE CRAWDADS SING', 'rank': 2, 'rank_last_week': 3, 'weeks_on_list': 58, 'description': 'A woman who survived alone in the marsh becomes a murder suspect.', 'publisher': 'Putnam', 'author': 'Delia Owens'}\n",
      "{'title': 'WHAT HAPPENS IN PARADISE', 'rank': 3, 'rank_last_week': 0, 'weeks_on_list': 1, 'description': 'In the sequel to \"Winter in Paradise,\" Irene Steele visits the island of St. John to get to the bottom of the mysterious life and death of her husband.', 'publisher': 'Little, Brown', 'author': 'Elin Hilderbrand'}\n",
      "{'title': 'NINTH HOUSE', 'rank': 4, 'rank_last_week': 0, 'weeks_on_list': 1, 'description': 'After mysteriously surviving a multiple homicide, Galaxy Stern comes face to face with dark magic, murder and more at Yale University.', 'publisher': 'Flatiron', 'author': 'Leigh Bardugo'}\n",
      "{'title': 'THE INSTITUTE', 'rank': 5, 'rank_last_week': 2, 'weeks_on_list': 5, 'description': 'Children with special talents are abducted and sequestered in an institution where the sinister staff seeks to extract their gifts through harsh methods.', 'publisher': 'Scribner', 'author': 'Stephen King'}\n",
      "{'title': 'THE WATER DANCER', 'rank': 6, 'rank_last_week': 1, 'weeks_on_list': 3, 'description': 'A young man who was gifted with a mysterious power becomes part of a war between slavers and the enslaved.', 'publisher': 'One World', 'author': 'Ta-Nehisi Coates'}\n",
      "{'title': 'THE DUTCH HOUSE', 'rank': 7, 'rank_last_week': 4, 'weeks_on_list': 3, 'description': 'A sibling relationship is impacted when the family goes from poverty to wealth and back again over the course of many decades.', 'publisher': 'Harper', 'author': 'Ann Patchett'}\n",
      "{'title': 'THE TESTAMENTS', 'rank': 8, 'rank_last_week': 6, 'weeks_on_list': 5, 'description': 'In a sequel to “The Handmaid’s Tale,” old secrets bring three women together as the Republic of Gilead’s theocratic regime shows signs of decay.', 'publisher': 'Nan A. Talese/Doubleday', 'author': 'Margaret Atwood'}\n",
      "{'title': \"CHILD'S PLAY\", 'rank': 9, 'rank_last_week': 0, 'weeks_on_list': 1, 'description': \"A prestigious New York lawyer learns that the life she constructed for her children and herself isn't exactly what she thought it was.\", 'publisher': 'Delacorte', 'author': 'Danielle Steel'}\n",
      "{'title': 'THE GIVER OF STARS', 'rank': 10, 'rank_last_week': 0, 'weeks_on_list': 1, 'description': 'In Depression-era America, five women refuse to be cowed by men or convention as they deliver books throughout the mountains of Kentucky.', 'publisher': 'Pamela Dorman/Viking', 'author': 'Jojo Moyes'}\n",
      "{'title': 'BLOODY GENIUS', 'rank': 11, 'rank_last_week': 5, 'weeks_on_list': 2, 'description': 'The 12th book in the Virgil Flowers series. A fight between university departments turns deadly.', 'publisher': 'Putnam', 'author': 'John Sandford'}\n",
      "{'title': 'VINCE FLYNN: LETHAL AGENT', 'rank': 12, 'rank_last_week': 7, 'weeks_on_list': 3, 'description': 'Mexican cartels, ISIS and a possible pandemic bring Mitch Rapp back into action.', 'publisher': 'Emily Bestler/Atria', 'author': 'Kyle Mills'}\n",
      "{'title': \"CILKA'S JOURNEY\", 'rank': 13, 'rank_last_week': 8, 'weeks_on_list': 2, 'description': 'A 16-year-old, who sleeps with a concentration camp commandant in order to survive, is sentenced to a Siberian prison camp where she cares for the ill.', 'publisher': \"St. Martin's\", 'author': 'Heather Morris'}\n",
      "{'title': 'IMAGINARY FRIEND', 'rank': 14, 'rank_last_week': 10, 'weeks_on_list': 2, 'description': 'After disappearing for six days, a boy emerges from the woods with a voice in his head that sends him on a mission.', 'publisher': 'Grand Central', 'author': 'Stephen Chbosky'}\n",
      "{'title': 'THE ORACLE', 'rank': 15, 'rank_last_week': 13, 'weeks_on_list': 6, 'description': 'A traveler discovers mysteries hidden behind seven locked doors.', 'publisher': 'Front Line', 'author': 'Jonathan Cahn'}\n",
      "{'title': 'THE 19TH CHRISTMAS', 'rank': 1, 'rank_last_week': 0, 'weeks_on_list': 1, 'description': 'In the 19th installment of the Women\\'s Murder Club series, detective Lindsay Boxer and company take on a fearsome criminal known only as \"Loman.\"', 'publisher': 'Little, Brown', 'author': 'James Patterson and Maxine Paetro'}\n",
      "{'title': 'WHERE THE CRAWDADS SING', 'rank': 2, 'rank_last_week': 3, 'weeks_on_list': 58, 'description': 'A woman who survived alone in the marsh becomes a murder suspect.', 'publisher': 'Putnam', 'author': 'Delia Owens'}\n",
      "{'title': 'WHAT HAPPENS IN PARADISE', 'rank': 3, 'rank_last_week': 0, 'weeks_on_list': 1, 'description': 'In the sequel to \"Winter in Paradise,\" Irene Steele visits the island of St. John to get to the bottom of the mysterious life and death of her husband.', 'publisher': 'Little, Brown', 'author': 'Elin Hilderbrand'}\n",
      "{'title': 'NINTH HOUSE', 'rank': 4, 'rank_last_week': 0, 'weeks_on_list': 1, 'description': 'After mysteriously surviving a multiple homicide, Galaxy Stern comes face to face with dark magic, murder and more at Yale University.', 'publisher': 'Flatiron', 'author': 'Leigh Bardugo'}\n",
      "{'title': 'THE INSTITUTE', 'rank': 5, 'rank_last_week': 2, 'weeks_on_list': 5, 'description': 'Children with special talents are abducted and sequestered in an institution where the sinister staff seeks to extract their gifts through harsh methods.', 'publisher': 'Scribner', 'author': 'Stephen King'}\n",
      "{'title': 'THE WATER DANCER', 'rank': 6, 'rank_last_week': 1, 'weeks_on_list': 3, 'description': 'A young man who was gifted with a mysterious power becomes part of a war between slavers and the enslaved.', 'publisher': 'One World', 'author': 'Ta-Nehisi Coates'}\n",
      "{'title': 'THE DUTCH HOUSE', 'rank': 7, 'rank_last_week': 4, 'weeks_on_list': 3, 'description': 'A sibling relationship is impacted when the family goes from poverty to wealth and back again over the course of many decades.', 'publisher': 'Harper', 'author': 'Ann Patchett'}\n",
      "{'title': 'THE TESTAMENTS', 'rank': 8, 'rank_last_week': 6, 'weeks_on_list': 5, 'description': 'In a sequel to “The Handmaid’s Tale,” old secrets bring three women together as the Republic of Gilead’s theocratic regime shows signs of decay.', 'publisher': 'Nan A. Talese/Doubleday', 'author': 'Margaret Atwood'}\n",
      "{'title': \"CHILD'S PLAY\", 'rank': 9, 'rank_last_week': 0, 'weeks_on_list': 1, 'description': \"A prestigious New York lawyer learns that the life she constructed for her children and herself isn't exactly what she thought it was.\", 'publisher': 'Delacorte', 'author': 'Danielle Steel'}\n",
      "{'title': 'THE GIVER OF STARS', 'rank': 10, 'rank_last_week': 0, 'weeks_on_list': 1, 'description': 'In Depression-era America, five women refuse to be cowed by men or convention as they deliver books throughout the mountains of Kentucky.', 'publisher': 'Pamela Dorman/Viking', 'author': 'Jojo Moyes'}\n",
      "{'title': 'BLOODY GENIUS', 'rank': 11, 'rank_last_week': 5, 'weeks_on_list': 2, 'description': 'The 12th book in the Virgil Flowers series. A fight between university departments turns deadly.', 'publisher': 'Putnam', 'author': 'John Sandford'}\n",
      "{'title': 'VINCE FLYNN: LETHAL AGENT', 'rank': 12, 'rank_last_week': 7, 'weeks_on_list': 3, 'description': 'Mexican cartels, ISIS and a possible pandemic bring Mitch Rapp back into action.', 'publisher': 'Emily Bestler/Atria', 'author': 'Kyle Mills'}\n",
      "{'title': \"CILKA'S JOURNEY\", 'rank': 13, 'rank_last_week': 8, 'weeks_on_list': 2, 'description': 'A 16-year-old, who sleeps with a concentration camp commandant in order to survive, is sentenced to a Siberian prison camp where she cares for the ill.', 'publisher': \"St. Martin's\", 'author': 'Heather Morris'}\n",
      "{'title': 'IMAGINARY FRIEND', 'rank': 14, 'rank_last_week': 10, 'weeks_on_list': 2, 'description': 'After disappearing for six days, a boy emerges from the woods with a voice in his head that sends him on a mission.', 'publisher': 'Grand Central', 'author': 'Stephen Chbosky'}\n",
      "{'title': 'THE ORACLE', 'rank': 15, 'rank_last_week': 13, 'weeks_on_list': 6, 'description': 'A traveler discovers mysteries hidden behind seven locked doors.', 'publisher': 'Front Line', 'author': 'Jonathan Cahn'}\n"
     ]
    },
    {
     "name": "stdout",
     "output_type": "stream",
     "text": [
      "{'title': 'THE 19TH CHRISTMAS', 'rank': 1, 'rank_last_week': 0, 'weeks_on_list': 1, 'description': 'In the 19th installment of the Women\\'s Murder Club series, detective Lindsay Boxer and company take on a fearsome criminal known only as \"Loman.\"', 'publisher': 'Little, Brown', 'author': 'James Patterson and Maxine Paetro'}\n",
      "{'title': 'WHERE THE CRAWDADS SING', 'rank': 2, 'rank_last_week': 3, 'weeks_on_list': 58, 'description': 'A woman who survived alone in the marsh becomes a murder suspect.', 'publisher': 'Putnam', 'author': 'Delia Owens'}\n",
      "{'title': 'WHAT HAPPENS IN PARADISE', 'rank': 3, 'rank_last_week': 0, 'weeks_on_list': 1, 'description': 'In the sequel to \"Winter in Paradise,\" Irene Steele visits the island of St. John to get to the bottom of the mysterious life and death of her husband.', 'publisher': 'Little, Brown', 'author': 'Elin Hilderbrand'}\n",
      "{'title': 'NINTH HOUSE', 'rank': 4, 'rank_last_week': 0, 'weeks_on_list': 1, 'description': 'After mysteriously surviving a multiple homicide, Galaxy Stern comes face to face with dark magic, murder and more at Yale University.', 'publisher': 'Flatiron', 'author': 'Leigh Bardugo'}\n",
      "{'title': 'THE INSTITUTE', 'rank': 5, 'rank_last_week': 2, 'weeks_on_list': 5, 'description': 'Children with special talents are abducted and sequestered in an institution where the sinister staff seeks to extract their gifts through harsh methods.', 'publisher': 'Scribner', 'author': 'Stephen King'}\n",
      "{'title': 'THE WATER DANCER', 'rank': 6, 'rank_last_week': 1, 'weeks_on_list': 3, 'description': 'A young man who was gifted with a mysterious power becomes part of a war between slavers and the enslaved.', 'publisher': 'One World', 'author': 'Ta-Nehisi Coates'}\n",
      "{'title': 'THE DUTCH HOUSE', 'rank': 7, 'rank_last_week': 4, 'weeks_on_list': 3, 'description': 'A sibling relationship is impacted when the family goes from poverty to wealth and back again over the course of many decades.', 'publisher': 'Harper', 'author': 'Ann Patchett'}\n",
      "{'title': 'THE TESTAMENTS', 'rank': 8, 'rank_last_week': 6, 'weeks_on_list': 5, 'description': 'In a sequel to “The Handmaid’s Tale,” old secrets bring three women together as the Republic of Gilead’s theocratic regime shows signs of decay.', 'publisher': 'Nan A. Talese/Doubleday', 'author': 'Margaret Atwood'}\n",
      "{'title': \"CHILD'S PLAY\", 'rank': 9, 'rank_last_week': 0, 'weeks_on_list': 1, 'description': \"A prestigious New York lawyer learns that the life she constructed for her children and herself isn't exactly what she thought it was.\", 'publisher': 'Delacorte', 'author': 'Danielle Steel'}\n",
      "{'title': 'THE GIVER OF STARS', 'rank': 10, 'rank_last_week': 0, 'weeks_on_list': 1, 'description': 'In Depression-era America, five women refuse to be cowed by men or convention as they deliver books throughout the mountains of Kentucky.', 'publisher': 'Pamela Dorman/Viking', 'author': 'Jojo Moyes'}\n",
      "{'title': 'BLOODY GENIUS', 'rank': 11, 'rank_last_week': 5, 'weeks_on_list': 2, 'description': 'The 12th book in the Virgil Flowers series. A fight between university departments turns deadly.', 'publisher': 'Putnam', 'author': 'John Sandford'}\n",
      "{'title': 'VINCE FLYNN: LETHAL AGENT', 'rank': 12, 'rank_last_week': 7, 'weeks_on_list': 3, 'description': 'Mexican cartels, ISIS and a possible pandemic bring Mitch Rapp back into action.', 'publisher': 'Emily Bestler/Atria', 'author': 'Kyle Mills'}\n",
      "{'title': \"CILKA'S JOURNEY\", 'rank': 13, 'rank_last_week': 8, 'weeks_on_list': 2, 'description': 'A 16-year-old, who sleeps with a concentration camp commandant in order to survive, is sentenced to a Siberian prison camp where she cares for the ill.', 'publisher': \"St. Martin's\", 'author': 'Heather Morris'}\n",
      "{'title': 'IMAGINARY FRIEND', 'rank': 14, 'rank_last_week': 10, 'weeks_on_list': 2, 'description': 'After disappearing for six days, a boy emerges from the woods with a voice in his head that sends him on a mission.', 'publisher': 'Grand Central', 'author': 'Stephen Chbosky'}\n",
      "{'title': 'THE ORACLE', 'rank': 15, 'rank_last_week': 13, 'weeks_on_list': 6, 'description': 'A traveler discovers mysteries hidden behind seven locked doors.', 'publisher': 'Front Line', 'author': 'Jonathan Cahn'}\n",
      "{'title': 'THE 19TH CHRISTMAS', 'rank': 1, 'rank_last_week': 0, 'weeks_on_list': 1, 'description': 'In the 19th installment of the Women\\'s Murder Club series, detective Lindsay Boxer and company take on a fearsome criminal known only as \"Loman.\"', 'publisher': 'Little, Brown', 'author': 'James Patterson and Maxine Paetro'}\n",
      "{'title': 'WHERE THE CRAWDADS SING', 'rank': 2, 'rank_last_week': 3, 'weeks_on_list': 58, 'description': 'A woman who survived alone in the marsh becomes a murder suspect.', 'publisher': 'Putnam', 'author': 'Delia Owens'}\n",
      "{'title': 'WHAT HAPPENS IN PARADISE', 'rank': 3, 'rank_last_week': 0, 'weeks_on_list': 1, 'description': 'In the sequel to \"Winter in Paradise,\" Irene Steele visits the island of St. John to get to the bottom of the mysterious life and death of her husband.', 'publisher': 'Little, Brown', 'author': 'Elin Hilderbrand'}\n",
      "{'title': 'NINTH HOUSE', 'rank': 4, 'rank_last_week': 0, 'weeks_on_list': 1, 'description': 'After mysteriously surviving a multiple homicide, Galaxy Stern comes face to face with dark magic, murder and more at Yale University.', 'publisher': 'Flatiron', 'author': 'Leigh Bardugo'}\n",
      "{'title': 'THE INSTITUTE', 'rank': 5, 'rank_last_week': 2, 'weeks_on_list': 5, 'description': 'Children with special talents are abducted and sequestered in an institution where the sinister staff seeks to extract their gifts through harsh methods.', 'publisher': 'Scribner', 'author': 'Stephen King'}\n",
      "{'title': 'THE WATER DANCER', 'rank': 6, 'rank_last_week': 1, 'weeks_on_list': 3, 'description': 'A young man who was gifted with a mysterious power becomes part of a war between slavers and the enslaved.', 'publisher': 'One World', 'author': 'Ta-Nehisi Coates'}\n",
      "{'title': 'THE DUTCH HOUSE', 'rank': 7, 'rank_last_week': 4, 'weeks_on_list': 3, 'description': 'A sibling relationship is impacted when the family goes from poverty to wealth and back again over the course of many decades.', 'publisher': 'Harper', 'author': 'Ann Patchett'}\n",
      "{'title': 'THE TESTAMENTS', 'rank': 8, 'rank_last_week': 6, 'weeks_on_list': 5, 'description': 'In a sequel to “The Handmaid’s Tale,” old secrets bring three women together as the Republic of Gilead’s theocratic regime shows signs of decay.', 'publisher': 'Nan A. Talese/Doubleday', 'author': 'Margaret Atwood'}\n",
      "{'title': \"CHILD'S PLAY\", 'rank': 9, 'rank_last_week': 0, 'weeks_on_list': 1, 'description': \"A prestigious New York lawyer learns that the life she constructed for her children and herself isn't exactly what she thought it was.\", 'publisher': 'Delacorte', 'author': 'Danielle Steel'}\n",
      "{'title': 'THE GIVER OF STARS', 'rank': 10, 'rank_last_week': 0, 'weeks_on_list': 1, 'description': 'In Depression-era America, five women refuse to be cowed by men or convention as they deliver books throughout the mountains of Kentucky.', 'publisher': 'Pamela Dorman/Viking', 'author': 'Jojo Moyes'}\n",
      "{'title': 'BLOODY GENIUS', 'rank': 11, 'rank_last_week': 5, 'weeks_on_list': 2, 'description': 'The 12th book in the Virgil Flowers series. A fight between university departments turns deadly.', 'publisher': 'Putnam', 'author': 'John Sandford'}\n",
      "{'title': 'VINCE FLYNN: LETHAL AGENT', 'rank': 12, 'rank_last_week': 7, 'weeks_on_list': 3, 'description': 'Mexican cartels, ISIS and a possible pandemic bring Mitch Rapp back into action.', 'publisher': 'Emily Bestler/Atria', 'author': 'Kyle Mills'}\n",
      "{'title': \"CILKA'S JOURNEY\", 'rank': 13, 'rank_last_week': 8, 'weeks_on_list': 2, 'description': 'A 16-year-old, who sleeps with a concentration camp commandant in order to survive, is sentenced to a Siberian prison camp where she cares for the ill.', 'publisher': \"St. Martin's\", 'author': 'Heather Morris'}\n",
      "{'title': 'IMAGINARY FRIEND', 'rank': 14, 'rank_last_week': 10, 'weeks_on_list': 2, 'description': 'After disappearing for six days, a boy emerges from the woods with a voice in his head that sends him on a mission.', 'publisher': 'Grand Central', 'author': 'Stephen Chbosky'}\n",
      "{'title': 'THE ORACLE', 'rank': 15, 'rank_last_week': 13, 'weeks_on_list': 6, 'description': 'A traveler discovers mysteries hidden behind seven locked doors.', 'publisher': 'Front Line', 'author': 'Jonathan Cahn'}\n"
     ]
    }
   ],
   "source": [
    "url_a = \"https://api.nytimes.com/svc/books/v3/lists/\" \n",
    "url_b = \"/hardcover-fiction.json?\" \n",
    "key = config.secret\n",
    "\n",
    "books = []\n",
    "books_d = {}\n",
    "\n",
    "for d in last_hundred:\n",
    "    r = requests.get(url_a + d + url_b + \"api-key=\" + key)\n",
    "    time.sleep(6)\n",
    "    #print(r)\n",
    "    for i in r.json()['results']['books']:\n",
    "        #print(i)\n",
    "        books_d = {\n",
    "            \"title\": i['title'], \n",
    "            \"rank\": i['rank'], \n",
    "            \"rank_last_week\": i['rank_last_week'], \n",
    "            \"weeks_on_list\": i['weeks_on_list'], \n",
    "            \"description\": i['description'], \n",
    "            \"publisher\": i['publisher'], \n",
    "            \"author\": i['author']\n",
    "        }\n",
    "        print(books_d)\n",
    "        #books.append(books_d)"
   ]
  },
  {
   "cell_type": "code",
   "execution_count": 20,
   "metadata": {},
   "outputs": [
    {
     "name": "stdout",
     "output_type": "stream",
     "text": [
      "THE 19TH CHRISTMAS\n",
      "WHERE THE CRAWDADS SING\n",
      "WHAT HAPPENS IN PARADISE\n",
      "NINTH HOUSE\n",
      "THE INSTITUTE\n",
      "THE WATER DANCER\n",
      "THE DUTCH HOUSE\n",
      "THE TESTAMENTS\n",
      "CHILD'S PLAY\n",
      "THE GIVER OF STARS\n",
      "BLOODY GENIUS\n",
      "VINCE FLYNN: LETHAL AGENT\n",
      "CILKA'S JOURNEY\n",
      "IMAGINARY FRIEND\n",
      "THE ORACLE\n"
     ]
    }
   ],
   "source": [
    "for i in r.json()['results']['books']:\n",
    "    print(i['title'])"
   ]
  },
  {
   "cell_type": "code",
   "execution_count": null,
   "metadata": {},
   "outputs": [],
   "source": []
  }
 ],
 "metadata": {
  "kernelspec": {
   "display_name": "Python 3",
   "language": "python",
   "name": "python3"
  },
  "language_info": {
   "codemirror_mode": {
    "name": "ipython",
    "version": 3
   },
   "file_extension": ".py",
   "mimetype": "text/x-python",
   "name": "python",
   "nbconvert_exporter": "python",
   "pygments_lexer": "ipython3",
   "version": "3.7.4"
  }
 },
 "nbformat": 4,
 "nbformat_minor": 2
}
