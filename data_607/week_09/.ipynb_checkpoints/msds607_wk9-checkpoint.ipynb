{
 "cells": [
  {
   "cell_type": "code",
   "execution_count": 27,
   "metadata": {},
   "outputs": [],
   "source": [
    "# msds607_wk9\n",
    "import datetime\n",
    "import requests\n",
    "import time"
   ]
  },
  {
   "cell_type": "code",
   "execution_count": 26,
   "metadata": {},
   "outputs": [
    {
     "name": "stdout",
     "output_type": "stream",
     "text": [
      "['2019-10-22', '2019-10-23', '2019-10-24', '2019-10-25', '2019-10-26', '2019-10-27', '2019-10-28', '2019-10-29', '2019-10-30', '2019-10-31', '2019-11-01', '2019-11-02', '2019-11-03', '2019-11-04', '2019-11-05', '2019-11-06', '2019-11-07', '2019-11-08', '2019-11-09', '2019-11-10', '2019-11-11', '2019-11-12', '2019-11-13', '2019-11-14', '2019-11-15', '2019-11-16', '2019-11-17', '2019-11-18', '2019-11-19', '2019-11-20', '2019-11-21', '2019-11-22', '2019-11-23', '2019-11-24', '2019-11-25', '2019-11-26', '2019-11-27', '2019-11-28', '2019-11-29', '2019-11-30', '2019-12-01', '2019-12-02', '2019-12-03', '2019-12-04', '2019-12-05', '2019-12-06', '2019-12-07', '2019-12-08', '2019-12-09', '2019-12-10', '2019-12-11', '2019-12-12', '2019-12-13', '2019-12-14', '2019-12-15', '2019-12-16', '2019-12-17', '2019-12-18', '2019-12-19', '2019-12-20', '2019-12-21', '2019-12-22', '2019-12-23', '2019-12-24', '2019-12-25', '2019-12-26', '2019-12-27', '2019-12-28', '2019-12-29', '2019-12-30', '2019-12-31', '2020-01-01', '2020-01-02', '2020-01-03', '2020-01-04', '2020-01-05', '2020-01-06', '2020-01-07', '2020-01-08', '2020-01-09', '2020-01-10', '2020-01-11', '2020-01-12', '2020-01-13', '2020-01-14', '2020-01-15', '2020-01-16', '2020-01-17', '2020-01-18', '2020-01-19', '2020-01-20', '2020-01-21', '2020-01-22', '2020-01-23', '2020-01-24', '2020-01-25', '2020-01-26', '2020-01-27', '2020-01-28', '2020-01-29']\n"
     ]
    }
   ],
   "source": [
    "last_hundred = []\n",
    "for i in range(0, 100):\n",
    "    last_hundred.append((datetime.date.today() + datetime.timedelta(i)).isoformat())\n",
    "#    print((datetime.date.today() + datetime.timedelta(i)).isoformat())\n",
    "print(last_hundred)"
   ]
  },
  {
   "cell_type": "code",
   "execution_count": 7,
   "metadata": {},
   "outputs": [
    {
     "data": {
      "text/plain": [
       "200"
      ]
     },
     "execution_count": 7,
     "metadata": {},
     "output_type": "execute_result"
    }
   ],
   "source": [
    "#r = requests.get('https://api.github.com/user', auth=('user', 'pass'))\n",
    "r = requests.get('https://api.nytimes.com/svc/books/v3/lists/current/hardcover-fiction.json?api-key=###')\n",
    "r.status_code"
   ]
  },
  {
   "cell_type": "code",
   "execution_count": 31,
   "metadata": {},
   "outputs": [
    {
     "name": "stdout",
     "output_type": "stream",
     "text": [
      "THE 19TH CHRISTMAS\n",
      "WHERE THE CRAWDADS SING\n",
      "WHAT HAPPENS IN PARADISE\n",
      "NINTH HOUSE\n",
      "THE INSTITUTE\n",
      "THE WATER DANCER\n",
      "THE DUTCH HOUSE\n",
      "THE TESTAMENTS\n",
      "CHILD'S PLAY\n",
      "THE GIVER OF STARS\n",
      "BLOODY GENIUS\n",
      "VINCE FLYNN: LETHAL AGENT\n",
      "CILKA'S JOURNEY\n",
      "IMAGINARY FRIEND\n",
      "THE ORACLE\n",
      "THE 19TH CHRISTMAS\n",
      "WHERE THE CRAWDADS SING\n",
      "WHAT HAPPENS IN PARADISE\n",
      "NINTH HOUSE\n",
      "THE INSTITUTE\n",
      "THE WATER DANCER\n",
      "THE DUTCH HOUSE\n",
      "THE TESTAMENTS\n",
      "CHILD'S PLAY\n",
      "THE GIVER OF STARS\n",
      "BLOODY GENIUS\n",
      "VINCE FLYNN: LETHAL AGENT\n",
      "CILKA'S JOURNEY\n",
      "IMAGINARY FRIEND\n",
      "THE ORACLE\n",
      "THE 19TH CHRISTMAS\n",
      "WHERE THE CRAWDADS SING\n",
      "WHAT HAPPENS IN PARADISE\n",
      "NINTH HOUSE\n",
      "THE INSTITUTE\n",
      "THE WATER DANCER\n",
      "THE DUTCH HOUSE\n",
      "THE TESTAMENTS\n",
      "CHILD'S PLAY\n",
      "THE GIVER OF STARS\n",
      "BLOODY GENIUS\n",
      "VINCE FLYNN: LETHAL AGENT\n",
      "CILKA'S JOURNEY\n",
      "IMAGINARY FRIEND\n",
      "THE ORACLE\n"
     ]
    },
    {
     "ename": "KeyError",
     "evalue": "'results'",
     "output_type": "error",
     "traceback": [
      "\u001b[0;31m---------------------------------------------------------------------------\u001b[0m",
      "\u001b[0;31mKeyError\u001b[0m                                  Traceback (most recent call last)",
      "\u001b[0;32m<ipython-input-31-28321c8f4349>\u001b[0m in \u001b[0;36m<module>\u001b[0;34m\u001b[0m\n\u001b[1;32m      3\u001b[0m     \u001b[0mr\u001b[0m \u001b[0;34m=\u001b[0m \u001b[0mrequests\u001b[0m\u001b[0;34m.\u001b[0m\u001b[0mget\u001b[0m\u001b[0;34m(\u001b[0m\u001b[0;34m'https://api.nytimes.com/svc/books/v3/lists/'\u001b[0m \u001b[0;34m+\u001b[0m \u001b[0md\u001b[0m \u001b[0;34m+\u001b[0m \u001b[0;34m'/hardcover-fiction.json?api-key=W8tE9TeVGVhoMKVfyGxW3JXhblcvUGUd'\u001b[0m\u001b[0;34m)\u001b[0m\u001b[0;34m\u001b[0m\u001b[0;34m\u001b[0m\u001b[0m\n\u001b[1;32m      4\u001b[0m     \u001b[0mtime\u001b[0m\u001b[0;34m.\u001b[0m\u001b[0msleep\u001b[0m\u001b[0;34m(\u001b[0m\u001b[0;36m.5\u001b[0m\u001b[0;34m)\u001b[0m\u001b[0;34m\u001b[0m\u001b[0;34m\u001b[0m\u001b[0m\n\u001b[0;32m----> 5\u001b[0;31m     \u001b[0;32mfor\u001b[0m \u001b[0mi\u001b[0m \u001b[0;32min\u001b[0m \u001b[0mr\u001b[0m\u001b[0;34m.\u001b[0m\u001b[0mjson\u001b[0m\u001b[0;34m(\u001b[0m\u001b[0;34m)\u001b[0m\u001b[0;34m[\u001b[0m\u001b[0;34m'results'\u001b[0m\u001b[0;34m]\u001b[0m\u001b[0;34m[\u001b[0m\u001b[0;34m'books'\u001b[0m\u001b[0;34m]\u001b[0m\u001b[0;34m:\u001b[0m\u001b[0;34m\u001b[0m\u001b[0;34m\u001b[0m\u001b[0m\n\u001b[0m\u001b[1;32m      6\u001b[0m         \u001b[0mprint\u001b[0m\u001b[0;34m(\u001b[0m\u001b[0mi\u001b[0m\u001b[0;34m[\u001b[0m\u001b[0;34m'title'\u001b[0m\u001b[0;34m]\u001b[0m\u001b[0;34m)\u001b[0m\u001b[0;34m\u001b[0m\u001b[0;34m\u001b[0m\u001b[0m\n\u001b[1;32m      7\u001b[0m         \u001b[0;31m#titles.append(i['title'])\u001b[0m\u001b[0;34m\u001b[0m\u001b[0;34m\u001b[0m\u001b[0;34m\u001b[0m\u001b[0m\n",
      "\u001b[0;31mKeyError\u001b[0m: 'results'"
     ]
    }
   ],
   "source": [
    "titles = []\n",
    "for d in last_hundred:\n",
    "    r = requests.get('https://api.nytimes.com/svc/books/v3/lists/' + d + '/hardcover-fiction.json?api-key=###')\n",
    "    time.sleep(.5)\n",
    "    for i in r.json()['results']['books']:\n",
    "        print(i['title'])\n",
    "        #titles.append(i['title'])\n",
    "#print(titles)"
   ]
  },
  {
   "cell_type": "code",
   "execution_count": 20,
   "metadata": {},
   "outputs": [
    {
     "name": "stdout",
     "output_type": "stream",
     "text": [
      "THE 19TH CHRISTMAS\n",
      "WHERE THE CRAWDADS SING\n",
      "WHAT HAPPENS IN PARADISE\n",
      "NINTH HOUSE\n",
      "THE INSTITUTE\n",
      "THE WATER DANCER\n",
      "THE DUTCH HOUSE\n",
      "THE TESTAMENTS\n",
      "CHILD'S PLAY\n",
      "THE GIVER OF STARS\n",
      "BLOODY GENIUS\n",
      "VINCE FLYNN: LETHAL AGENT\n",
      "CILKA'S JOURNEY\n",
      "IMAGINARY FRIEND\n",
      "THE ORACLE\n"
     ]
    }
   ],
   "source": [
    "for i in r.json()['results']['books']:\n",
    "    print(i['title'])"
   ]
  },
  {
   "cell_type": "code",
   "execution_count": null,
   "metadata": {},
   "outputs": [],
   "source": []
  }
 ],
 "metadata": {
  "kernelspec": {
   "display_name": "Python 3",
   "language": "python",
   "name": "python3"
  },
  "language_info": {
   "codemirror_mode": {
    "name": "ipython",
    "version": 3
   },
   "file_extension": ".py",
   "mimetype": "text/x-python",
   "name": "python",
   "nbconvert_exporter": "python",
   "pygments_lexer": "ipython3",
   "version": "3.7.4"
  }
 },
 "nbformat": 4,
 "nbformat_minor": 2
}
