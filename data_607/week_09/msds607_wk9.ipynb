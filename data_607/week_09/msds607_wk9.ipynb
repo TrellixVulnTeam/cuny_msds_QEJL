{
 "cells": [
  {
   "cell_type": "markdown",
   "metadata": {},
   "source": [
    "### nicholas chung\n",
    "### data607\n",
    "### 10/24/19\n",
    "\n",
    "## assignment: web APIs\n",
    "\n",
    "The New York Times web site provides a rich set of APIs, as described here: https://developer.nytimes.com/apis\n",
    "\n",
    "You’ll need to start by signing up for an API key.\n",
    "\n",
    "Your task is to choose one of the New York Times APIs, construct an interface in Python to read in the JSON data, and\n",
    "transform it into a pandas DataFrame."
   ]
  },
  {
   "cell_type": "code",
   "execution_count": 1,
   "metadata": {},
   "outputs": [],
   "source": [
    "import config\n",
    "import datetime\n",
    "import requests\n",
    "import time"
   ]
  },
  {
   "cell_type": "code",
   "execution_count": 28,
   "metadata": {},
   "outputs": [],
   "source": [
    "# define how far back we want to go in our analysis \n",
    "weeks = []\n",
    "# append dates for each of week of the past 5 years to list\n",
    "# todo: this should \"weeks\"\n",
    "for i in range(0, 1825, 7):\n",
    "    weeks.append((datetime.date.today() - datetime.timedelta(i)).isoformat())\n",
    "\n",
    "# store API key as \"key\" for easy reference   \n",
    "key = config.secret"
   ]
  },
  {
   "cell_type": "code",
   "execution_count": 3,
   "metadata": {},
   "outputs": [
    {
     "data": {
      "text/plain": [
       "200"
      ]
     },
     "execution_count": 3,
     "metadata": {},
     "output_type": "execute_result"
    }
   ],
   "source": [
    "# confirm authentication and successful HTTPS request\n",
    "r = requests.get('https://api.nytimes.com/svc/books/v3/lists/current/hardcover-fiction.json?api-key=' + key)\n",
    "r.status_code"
   ]
  },
  {
   "cell_type": "code",
   "execution_count": null,
   "metadata": {},
   "outputs": [],
   "source": [
    "# store URL as fragments for ease of reuse\n",
    "url_a = \"https://api.nytimes.com/svc/books/v3/\" \n",
    "url_b = \"lists/\" + d + \"/hardcover-fiction.json?\" \n",
    "\n",
    "books = []\n",
    "books_d = {}\n",
    "\n",
    "# grab values for each object returned, then store as list of dicts\n",
    "for d in weeks:\n",
    "    r = requests.get(url_a + url_b + \"api-key=\" + key)\n",
    "    time.sleep(6) # rate limit guidance as per https://developer.nytimes.com/faq#a11\n",
    "    for i in r.json()['results']['books']:\n",
    "        # create dictionary for each result\n",
    "        books_d = {\n",
    "            \"title\": i['title'], \n",
    "            \"rank\": i['rank'], \n",
    "            \"rank_last_week\": i['rank_last_week'], \n",
    "            \"weeks_on_list\": i['weeks_on_list'], \n",
    "            \"description\": i['description'], \n",
    "            \"publisher\": i['publisher'], \n",
    "            \"author\": i['author']\n",
    "        }\n",
    "        # append dictionary to list\n",
    "        books.append(books_d)\n",
    "\n",
    "print(books)"
   ]
  },
  {
   "cell_type": "code",
   "execution_count": null,
   "metadata": {},
   "outputs": [],
   "source": [
    "# store list of dictionanies to dataframe\n",
    "books_df = dataframe(books)"
   ]
  }
 ],
 "metadata": {
  "kernelspec": {
   "display_name": "Python 3",
   "language": "python",
   "name": "python3"
  },
  "language_info": {
   "codemirror_mode": {
    "name": "ipython",
    "version": 3
   },
   "file_extension": ".py",
   "mimetype": "text/x-python",
   "name": "python",
   "nbconvert_exporter": "python",
   "pygments_lexer": "ipython3",
   "version": "3.7.4"
  }
 },
 "nbformat": 4,
 "nbformat_minor": 2
}
